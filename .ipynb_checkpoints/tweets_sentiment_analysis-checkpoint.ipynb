{
 "cells": [
  {
   "cell_type": "markdown",
   "id": "6a0c7999",
   "metadata": {},
   "source": [
    "# Sentiment Analysis (Big Data Environment)"
   ]
  },
  {
   "cell_type": "markdown",
   "id": "4f33b210",
   "metadata": {},
   "source": [
    "## Tweets Dataset"
   ]
  },
  {
   "cell_type": "markdown",
   "id": "23c76f86",
   "metadata": {},
   "source": [
    "Dataset : sentiment140 corpus, comprised of about 1.6M tweets, each with below information"
   ]
  },
  {
   "cell_type": "markdown",
   "id": "a4028ee3",
   "metadata": {},
   "source": [
    "1.Polarity of tweet: 0 = -ve, 2 = neutral, 4 = +ve <br>\n",
    "2.ID of tweet <br>\n",
    "3.Date of tweet <br>\n",
    "4.The query (if available) <br>\n",
    "5.The user of the tweet<br>\n",
    "6.The text of the tweet"
   ]
  },
  {
   "cell_type": "markdown",
   "id": "f337b66e",
   "metadata": {},
   "source": [
    "Also, AFINN wordlist have been used, it provides a sentiment score for 2476 English <br>\n",
    "words to achieve a better accuracy, Each row of this dataset is:"
   ]
  },
  {
   "cell_type": "markdown",
   "id": "9f1e2424",
   "metadata": {},
   "source": [
    "1.Word <br>\n",
    "2.Score"
   ]
  },
  {
   "cell_type": "markdown",
   "id": "70caa1fc",
   "metadata": {},
   "source": [
    "### Data Preparation"
   ]
  },
  {
   "cell_type": "markdown",
   "id": "3b649b78",
   "metadata": {},
   "source": [
    "Loading data into HIVE table"
   ]
  },
  {
   "cell_type": "markdown",
   "id": "e9a1a1d5",
   "metadata": {},
   "source": [
    "Create a spark session"
   ]
  },
  {
   "cell_type": "code",
   "execution_count": 2,
   "id": "39447d61",
   "metadata": {},
   "outputs": [],
   "source": [
    "from pyspark.sql import SparkSession"
   ]
  },
  {
   "cell_type": "code",
   "execution_count": 12,
   "id": "2e1c568a",
   "metadata": {},
   "outputs": [],
   "source": [
    "spark = SparkSession. \\\n",
    "builder. \\\n",
    "config(\"spark.sql.warehouse.dir\",\"/user/itv000684/warehouse\"). \\\n",
    "appName(\"sentiment Analysis\"). \\\n",
    "enableHiveSupport(). \\\n",
    "master(\"yarn\"). \\\n",
    "getOrCreate()"
   ]
  },
  {
   "cell_type": "code",
   "execution_count": 17,
   "id": "ea55dec5",
   "metadata": {},
   "outputs": [
    {
     "name": "stdout",
     "output_type": "stream",
     "text": [
      "+------------------+\n",
      "|current_database()|\n",
      "+------------------+\n",
      "|           default|\n",
      "+------------------+\n",
      "\n"
     ]
    }
   ],
   "source": [
    "spark.sql(\"SELECT current_database()\").show()"
   ]
  },
  {
   "cell_type": "code",
   "execution_count": 19,
   "id": "224edcbf",
   "metadata": {},
   "outputs": [
    {
     "data": {
      "text/html": [
       "<table border='1'>\n",
       "<tr><th></th></tr>\n",
       "</table>\n"
      ],
      "text/plain": [
       "++\n",
       "||\n",
       "++\n",
       "++"
      ]
     },
     "execution_count": 19,
     "metadata": {},
     "output_type": "execute_result"
    }
   ],
   "source": [
    "spark.sql(\"CREATE DATABASE IF NOT EXISTS itv000684_tweetdata\")"
   ]
  },
  {
   "cell_type": "code",
   "execution_count": 20,
   "id": "3c9d6b2a",
   "metadata": {},
   "outputs": [
    {
     "data": {
      "text/html": [
       "<table border='1'>\n",
       "<tr><th></th></tr>\n",
       "</table>\n"
      ],
      "text/plain": [
       "++\n",
       "||\n",
       "++\n",
       "++"
      ]
     },
     "execution_count": 20,
     "metadata": {},
     "output_type": "execute_result"
    }
   ],
   "source": [
    "spark.sql(\"USE itv000684_tweetdata\")"
   ]
  },
  {
   "cell_type": "code",
   "execution_count": 21,
   "id": "381fa01d",
   "metadata": {},
   "outputs": [
    {
     "name": "stdout",
     "output_type": "stream",
     "text": [
      "+-------------------+\n",
      "| current_database()|\n",
      "+-------------------+\n",
      "|itv000684_tweetdata|\n",
      "+-------------------+\n",
      "\n"
     ]
    }
   ],
   "source": [
    "spark.sql(\"SELECT current_database()\").show()"
   ]
  },
  {
   "cell_type": "code",
   "execution_count": 25,
   "id": "1f7b0b58",
   "metadata": {},
   "outputs": [
    {
     "data": {
      "text/html": [
       "<table border='1'>\n",
       "<tr><th></th></tr>\n",
       "</table>\n"
      ],
      "text/plain": [
       "++\n",
       "||\n",
       "++\n",
       "++"
      ]
     },
     "execution_count": 25,
     "metadata": {},
     "output_type": "execute_result"
    }
   ],
   "source": [
    "spark.sql(\"\"\"CREATE TABLE tweets (\n",
    "polarity INT,\n",
    "id STRING,\n",
    "date STRING,\n",
    "query STRING,\n",
    "user STRING,\n",
    "text string\n",
    ")  \n",
    "STORED AS TEXTFILE\n",
    "tblproperties(\"skip.header.line.count\"=\"0\")\n",
    "\"\"\")"
   ]
  },
  {
   "cell_type": "code",
   "execution_count": 26,
   "id": "6b17a486",
   "metadata": {},
   "outputs": [
    {
     "data": {
      "text/html": [
       "<table border='1'>\n",
       "<tr><th></th></tr>\n",
       "</table>\n"
      ],
      "text/plain": [
       "++\n",
       "||\n",
       "++\n",
       "++"
      ]
     },
     "execution_count": 26,
     "metadata": {},
     "output_type": "execute_result"
    }
   ],
   "source": [
    "spark.sql(\"\"\"CREATE TABLE sentiment_words (\n",
    "word STRING,\n",
    "score INT\n",
    ") ROW FORMAT DELIMITED FIELDS TERMINATED BY '\\t'\n",
    "STORED AS TEXTFILE\n",
    "\"\"\")"
   ]
  },
  {
   "cell_type": "code",
   "execution_count": 27,
   "id": "710b95c2",
   "metadata": {},
   "outputs": [
    {
     "data": {
      "text/html": [
       "<table border='1'>\n",
       "<tr><th></th></tr>\n",
       "</table>\n"
      ],
      "text/plain": [
       "++\n",
       "||\n",
       "++\n",
       "++"
      ]
     },
     "execution_count": 27,
     "metadata": {},
     "output_type": "execute_result"
    }
   ],
   "source": [
    "spark.sql(\"LOAD DATA INPATH '/user/itv000684/sentiment_analysis/' INTO TABLE tweets\")"
   ]
  },
  {
   "cell_type": "code",
   "execution_count": null,
   "id": "8a1ea104",
   "metadata": {},
   "outputs": [],
   "source": [
    "spark.sql(\"LOAD DATA INPATH '/user/itv000684/sentiment_analysis/' INTO TABLE tweets\")"
   ]
  }
 ],
 "metadata": {
  "kernelspec": {
   "display_name": "Pyspark 3",
   "language": "python",
   "name": "pyspark3"
  },
  "language_info": {
   "codemirror_mode": {
    "name": "ipython",
    "version": 3
   },
   "file_extension": ".py",
   "mimetype": "text/x-python",
   "name": "python",
   "nbconvert_exporter": "python",
   "pygments_lexer": "ipython3",
   "version": "3.6.12"
  }
 },
 "nbformat": 4,
 "nbformat_minor": 5
}
