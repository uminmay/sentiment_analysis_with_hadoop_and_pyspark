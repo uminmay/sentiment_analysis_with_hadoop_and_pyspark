{
 "cells": [
  {
   "cell_type": "markdown",
   "id": "b2704e77",
   "metadata": {},
   "source": [
    "# Sentiment Analysis (Big Data Environment)"
   ]
  },
  {
   "cell_type": "markdown",
   "id": "266ec77e",
   "metadata": {},
   "source": [
    "## Tweets Dataset"
   ]
  },
  {
   "cell_type": "markdown",
   "id": "11157e61",
   "metadata": {},
   "source": [
    "Dataset : sentiment140 corpus, comprised of about 1.6M tweets, each with below information"
   ]
  },
  {
   "cell_type": "markdown",
   "id": "0b8c21d5",
   "metadata": {},
   "source": [
    "1.Polarity of tweet: 0 = -ve, 2 = neutral, 4 = +ve <br>\n",
    "2.ID of tweet <br>\n",
    "3.Date of tweet <br>\n",
    "4.The query (if available) <br>\n",
    "5.The user of the tweet<br>\n",
    "6.The text of the tweet"
   ]
  },
  {
   "cell_type": "markdown",
   "id": "ac966a1f",
   "metadata": {},
   "source": [
    "Also, AFINN wordlist have been used, it provides a sentiment score for 2476 English <br>\n",
    "words to achieve a better accuracy, Each row of this dataset is:"
   ]
  },
  {
   "cell_type": "markdown",
   "id": "2db5ce1b",
   "metadata": {},
   "source": [
    "1.Word <br>\n",
    "2.Score"
   ]
  },
  {
   "cell_type": "markdown",
   "id": "eaeb9a39",
   "metadata": {},
   "source": [
    "### Data Preparation"
   ]
  },
  {
   "cell_type": "markdown",
   "id": "f1330bf7",
   "metadata": {},
   "source": [
    "Loading data into HIVE table"
   ]
  },
  {
   "cell_type": "markdown",
   "id": "4593f9b0",
   "metadata": {},
   "source": [
    "Create a spark session"
   ]
  },
  {
   "cell_type": "code",
   "execution_count": 1,
   "id": "65dc1053",
   "metadata": {},
   "outputs": [],
   "source": [
    "from pyspark.sql import SparkSession"
   ]
  },
  {
   "cell_type": "code",
   "execution_count": 2,
   "id": "561d52c5",
   "metadata": {},
   "outputs": [],
   "source": [
    "spark = SparkSession. \\\n",
    "builder. \\\n",
    "config(\"spark.sql.warehouse.dir\",\"/user/itv000684/warehouse\"). \\\n",
    "appName(\"sentiment Analysis\"). \\\n",
    "enableHiveSupport(). \\\n",
    "master(\"yarn\"). \\\n",
    "getOrCreate()"
   ]
  },
  {
   "cell_type": "code",
   "execution_count": 3,
   "id": "57e33153",
   "metadata": {},
   "outputs": [
    {
     "name": "stdout",
     "output_type": "stream",
     "text": [
      "+------------------+\n",
      "|current_database()|\n",
      "+------------------+\n",
      "|           default|\n",
      "+------------------+\n",
      "\n"
     ]
    }
   ],
   "source": [
    "spark.sql(\"SELECT current_database()\").show()"
   ]
  },
  {
   "cell_type": "code",
   "execution_count": 19,
   "id": "c72ed90a",
   "metadata": {},
   "outputs": [
    {
     "data": {
      "text/html": [
       "<table border='1'>\n",
       "<tr><th></th></tr>\n",
       "</table>\n"
      ],
      "text/plain": [
       "++\n",
       "||\n",
       "++\n",
       "++"
      ]
     },
     "execution_count": 19,
     "metadata": {},
     "output_type": "execute_result"
    }
   ],
   "source": [
    "#spark.sql(\"CREATE DATABASE IF NOT EXISTS itv000684_tweetdata\")"
   ]
  },
  {
   "cell_type": "code",
   "execution_count": 4,
   "id": "be8adc4a",
   "metadata": {},
   "outputs": [
    {
     "data": {
      "text/html": [
       "<table border='1'>\n",
       "<tr><th></th></tr>\n",
       "</table>\n"
      ],
      "text/plain": [
       "++\n",
       "||\n",
       "++\n",
       "++"
      ]
     },
     "execution_count": 4,
     "metadata": {},
     "output_type": "execute_result"
    }
   ],
   "source": [
    "spark.sql(\"USE itv000684_tweetdata\")"
   ]
  },
  {
   "cell_type": "code",
   "execution_count": 5,
   "id": "02881e6e",
   "metadata": {},
   "outputs": [
    {
     "name": "stdout",
     "output_type": "stream",
     "text": [
      "+-------------------+\n",
      "| current_database()|\n",
      "+-------------------+\n",
      "|itv000684_tweetdata|\n",
      "+-------------------+\n",
      "\n"
     ]
    }
   ],
   "source": [
    "spark.sql(\"SELECT current_database()\").show()"
   ]
  },
  {
   "cell_type": "code",
   "execution_count": 51,
   "id": "fd2d4b4a",
   "metadata": {},
   "outputs": [
    {
     "data": {
      "text/html": [
       "<table border='1'>\n",
       "<tr><th></th></tr>\n",
       "</table>\n"
      ],
      "text/plain": [
       "++\n",
       "||\n",
       "++\n",
       "++"
      ]
     },
     "execution_count": 51,
     "metadata": {},
     "output_type": "execute_result"
    }
   ],
   "source": [
    "#spark.sql(\"DROP TABLE tweets\")"
   ]
  },
  {
   "cell_type": "code",
   "execution_count": 6,
   "id": "0bf5f217",
   "metadata": {},
   "outputs": [
    {
     "name": "stdout",
     "output_type": "stream",
     "text": [
      "+-------------------+---------------+-----------+\n",
      "|           database|      tableName|isTemporary|\n",
      "+-------------------+---------------+-----------+\n",
      "|itv000684_tweetdata|sentiment_words|      false|\n",
      "|itv000684_tweetdata|         tweets|      false|\n",
      "+-------------------+---------------+-----------+\n",
      "\n"
     ]
    }
   ],
   "source": [
    "spark.sql(\"SHOW TABLES\").show()"
   ]
  },
  {
   "cell_type": "code",
   "execution_count": 30,
   "id": "7bb8247e",
   "metadata": {},
   "outputs": [
    {
     "data": {
      "text/html": [
       "<table border='1'>\n",
       "<tr><th></th></tr>\n",
       "</table>\n"
      ],
      "text/plain": [
       "++\n",
       "||\n",
       "++\n",
       "++"
      ]
     },
     "execution_count": 30,
     "metadata": {},
     "output_type": "execute_result"
    }
   ],
   "source": [
    "#spark.sql(\"DROP TABLE tweets\")"
   ]
  },
  {
   "cell_type": "code",
   "execution_count": 31,
   "id": "e74552d8",
   "metadata": {},
   "outputs": [
    {
     "data": {
      "text/html": [
       "<table border='1'>\n",
       "<tr><th></th></tr>\n",
       "</table>\n"
      ],
      "text/plain": [
       "++\n",
       "||\n",
       "++\n",
       "++"
      ]
     },
     "execution_count": 31,
     "metadata": {},
     "output_type": "execute_result"
    }
   ],
   "source": [
    "spark.sql(\"\"\"CREATE TABLE tweets (\n",
    "polarity INT,\n",
    "id STRING,\n",
    "date STRING,\n",
    "query STRING,\n",
    "user STRING,\n",
    "text STRING\n",
    ") ROW FORMAT DELIMITED FIELDS TERMINATED BY ','\n",
    "STORED AS TEXTFILE\n",
    "tblproperties(\"skip.header.line.count\" = \"0\")\n",
    "\"\"\")"
   ]
  },
  {
   "cell_type": "code",
   "execution_count": 26,
   "id": "b3ecbe87",
   "metadata": {},
   "outputs": [
    {
     "data": {
      "text/html": [
       "<table border='1'>\n",
       "<tr><th></th></tr>\n",
       "</table>\n"
      ],
      "text/plain": [
       "++\n",
       "||\n",
       "++\n",
       "++"
      ]
     },
     "execution_count": 26,
     "metadata": {},
     "output_type": "execute_result"
    }
   ],
   "source": [
    "spark.sql(\"\"\"CREATE TABLE sentiment_words (\n",
    "word STRING,\n",
    "score INT\n",
    ") ROW FORMAT DELIMITED FIELDS TERMINATED BY '\\t'\n",
    "STORED AS TEXTFILE\n",
    "\"\"\")"
   ]
  },
  {
   "cell_type": "code",
   "execution_count": 7,
   "id": "56561ed7",
   "metadata": {},
   "outputs": [
    {
     "name": "stdout",
     "output_type": "stream",
     "text": [
      "+-------------------+---------------+-----------+\n",
      "|           database|      tableName|isTemporary|\n",
      "+-------------------+---------------+-----------+\n",
      "|itv000684_tweetdata|sentiment_words|      false|\n",
      "|itv000684_tweetdata|         tweets|      false|\n",
      "+-------------------+---------------+-----------+\n",
      "\n"
     ]
    }
   ],
   "source": [
    "spark.sql(\"SHOW TABLES\").show()"
   ]
  },
  {
   "cell_type": "code",
   "execution_count": 32,
   "id": "65ec585b",
   "metadata": {},
   "outputs": [
    {
     "data": {
      "text/html": [
       "<table border='1'>\n",
       "<tr><th></th></tr>\n",
       "</table>\n"
      ],
      "text/plain": [
       "++\n",
       "||\n",
       "++\n",
       "++"
      ]
     },
     "execution_count": 32,
     "metadata": {},
     "output_type": "execute_result"
    }
   ],
   "source": [
    "spark.sql(\"LOAD DATA INPATH '/user/itv000684/sentiment_analysis/data' INTO TABLE tweets\")"
   ]
  },
  {
   "cell_type": "code",
   "execution_count": 34,
   "id": "5bce8860",
   "metadata": {},
   "outputs": [
    {
     "data": {
      "text/html": [
       "<table border='1'>\n",
       "<tr><th></th></tr>\n",
       "</table>\n"
      ],
      "text/plain": [
       "++\n",
       "||\n",
       "++\n",
       "++"
      ]
     },
     "execution_count": 34,
     "metadata": {},
     "output_type": "execute_result"
    }
   ],
   "source": [
    "spark.sql(\"LOAD DATA INPATH '/user/itv000684/sentiment_analysis/wordlist' INTO TABLE sentiment_words\")"
   ]
  },
  {
   "cell_type": "code",
   "execution_count": 8,
   "id": "329f3a79",
   "metadata": {},
   "outputs": [
    {
     "name": "stdout",
     "output_type": "stream",
     "text": [
      "+--------+----------+--------------------+--------+---------------+--------------------+\n",
      "|polarity|        id|                date|   query|           user|                text|\n",
      "+--------+----------+--------------------+--------+---------------+--------------------+\n",
      "|       0|1467810369|Mon Apr 06 22:19:...|NO_QUERY|_TheSpecialOne_|@switchfoot http:...|\n",
      "|       0|1467810672|Mon Apr 06 22:19:...|NO_QUERY|  scotthamilton|is upset that he ...|\n",
      "|       0|1467810917|Mon Apr 06 22:19:...|NO_QUERY|       mattycus|@Kenichan I dived...|\n",
      "|       0|1467811184|Mon Apr 06 22:19:...|NO_QUERY|        ElleCTF|my whole body fee...|\n",
      "|       0|1467811193|Mon Apr 06 22:19:...|NO_QUERY|         Karoli|@nationwideclass ...|\n",
      "|       0|1467811372|Mon Apr 06 22:20:...|NO_QUERY|       joy_wolf|@Kwesidei not the...|\n",
      "|       0|1467811592|Mon Apr 06 22:20:...|NO_QUERY|        mybirch|         Need a hug |\n",
      "|       0|1467811594|Mon Apr 06 22:20:...|NO_QUERY|           coZZ|@LOLTrish hey  lo...|\n",
      "|       0|1467811795|Mon Apr 06 22:20:...|NO_QUERY|2Hood4Hollywood|@Tatiana_K nope t...|\n",
      "|       0|1467812025|Mon Apr 06 22:20:...|NO_QUERY|        mimismo|@twittera que me ...|\n",
      "|       0|1467812416|Mon Apr 06 22:20:...|NO_QUERY| erinx3leannexo|spring break in p...|\n",
      "|       0|1467812579|Mon Apr 06 22:20:...|NO_QUERY|   pardonlauren|I just re-pierced...|\n",
      "|       0|1467812723|Mon Apr 06 22:20:...|NO_QUERY|           TLeC|@caregiving I cou...|\n",
      "|       0|1467812771|Mon Apr 06 22:20:...|NO_QUERY|robrobbierobert|@octolinz16 It it...|\n",
      "|       0|1467812784|Mon Apr 06 22:20:...|NO_QUERY|    bayofwolves|@smarrison i woul...|\n",
      "|       0|1467812799|Mon Apr 06 22:20:...|NO_QUERY|     HairByJess|@iamjazzyfizzle I...|\n",
      "|       0|1467812964|Mon Apr 06 22:20:...|NO_QUERY| lovesongwriter|Hollis' death sce...|\n",
      "|       0|1467813137|Mon Apr 06 22:20:...|NO_QUERY|       armotley|about to file taxes |\n",
      "|       0|1467813579|Mon Apr 06 22:20:...|NO_QUERY|     starkissed|@LettyA ahh ive a...|\n",
      "|       0|1467813782|Mon Apr 06 22:20:...|NO_QUERY|      gi_gi_bee|@FakerPattyPattz ...|\n",
      "+--------+----------+--------------------+--------+---------------+--------------------+\n",
      "only showing top 20 rows\n",
      "\n"
     ]
    }
   ],
   "source": [
    "spark.sql(\"SELECT * FROM tweets\").show()"
   ]
  },
  {
   "cell_type": "code",
   "execution_count": 35,
   "id": "cd47c027",
   "metadata": {},
   "outputs": [],
   "source": [
    "datas = spark.read.format('csv'). \\\n",
    "schema('''polarity INT,\n",
    "id STRING,\n",
    "date STRING,\n",
    "query STRING,\n",
    "user STRING,\n",
    "text STRING\n",
    "'''). \\\n",
    "load('/user/itv000684/sentiment_analysis/data')"
   ]
  },
  {
   "cell_type": "code",
   "execution_count": 36,
   "id": "3f3a680f",
   "metadata": {},
   "outputs": [
    {
     "data": {
      "text/html": [
       "<table border='1'>\n",
       "<tr><th>polarity</th><th>id</th><th>date</th><th>query</th><th>user</th><th>text</th></tr>\n",
       "<tr><td>0</td><td>1467810369</td><td>Mon Apr 06 22:19:...</td><td>NO_QUERY</td><td>_TheSpecialOne_</td><td>@switchfoot http:...</td></tr>\n",
       "<tr><td>0</td><td>1467810672</td><td>Mon Apr 06 22:19:...</td><td>NO_QUERY</td><td>scotthamilton</td><td>is upset that he ...</td></tr>\n",
       "<tr><td>0</td><td>1467810917</td><td>Mon Apr 06 22:19:...</td><td>NO_QUERY</td><td>mattycus</td><td>@Kenichan I dived...</td></tr>\n",
       "<tr><td>0</td><td>1467811184</td><td>Mon Apr 06 22:19:...</td><td>NO_QUERY</td><td>ElleCTF</td><td>my whole body fee...</td></tr>\n",
       "<tr><td>0</td><td>1467811193</td><td>Mon Apr 06 22:19:...</td><td>NO_QUERY</td><td>Karoli</td><td>@nationwideclass ...</td></tr>\n",
       "<tr><td>0</td><td>1467811372</td><td>Mon Apr 06 22:20:...</td><td>NO_QUERY</td><td>joy_wolf</td><td>@Kwesidei not the...</td></tr>\n",
       "<tr><td>0</td><td>1467811592</td><td>Mon Apr 06 22:20:...</td><td>NO_QUERY</td><td>mybirch</td><td>Need a hug </td></tr>\n",
       "<tr><td>0</td><td>1467811594</td><td>Mon Apr 06 22:20:...</td><td>NO_QUERY</td><td>coZZ</td><td>@LOLTrish hey  lo...</td></tr>\n",
       "<tr><td>0</td><td>1467811795</td><td>Mon Apr 06 22:20:...</td><td>NO_QUERY</td><td>2Hood4Hollywood</td><td>@Tatiana_K nope t...</td></tr>\n",
       "<tr><td>0</td><td>1467812025</td><td>Mon Apr 06 22:20:...</td><td>NO_QUERY</td><td>mimismo</td><td>@twittera que me ...</td></tr>\n",
       "<tr><td>0</td><td>1467812416</td><td>Mon Apr 06 22:20:...</td><td>NO_QUERY</td><td>erinx3leannexo</td><td>spring break in p...</td></tr>\n",
       "<tr><td>0</td><td>1467812579</td><td>Mon Apr 06 22:20:...</td><td>NO_QUERY</td><td>pardonlauren</td><td>I just re-pierced...</td></tr>\n",
       "<tr><td>0</td><td>1467812723</td><td>Mon Apr 06 22:20:...</td><td>NO_QUERY</td><td>TLeC</td><td>@caregiving I cou...</td></tr>\n",
       "<tr><td>0</td><td>1467812771</td><td>Mon Apr 06 22:20:...</td><td>NO_QUERY</td><td>robrobbierobert</td><td>@octolinz16 It it...</td></tr>\n",
       "<tr><td>0</td><td>1467812784</td><td>Mon Apr 06 22:20:...</td><td>NO_QUERY</td><td>bayofwolves</td><td>@smarrison i woul...</td></tr>\n",
       "<tr><td>0</td><td>1467812799</td><td>Mon Apr 06 22:20:...</td><td>NO_QUERY</td><td>HairByJess</td><td>@iamjazzyfizzle I...</td></tr>\n",
       "<tr><td>0</td><td>1467812964</td><td>Mon Apr 06 22:20:...</td><td>NO_QUERY</td><td>lovesongwriter</td><td>Hollis&#x27; death sce...</td></tr>\n",
       "<tr><td>0</td><td>1467813137</td><td>Mon Apr 06 22:20:...</td><td>NO_QUERY</td><td>armotley</td><td>about to file taxes </td></tr>\n",
       "<tr><td>0</td><td>1467813579</td><td>Mon Apr 06 22:20:...</td><td>NO_QUERY</td><td>starkissed</td><td>@LettyA ahh ive a...</td></tr>\n",
       "<tr><td>0</td><td>1467813782</td><td>Mon Apr 06 22:20:...</td><td>NO_QUERY</td><td>gi_gi_bee</td><td>@FakerPattyPattz ...</td></tr>\n",
       "</table>\n",
       "only showing top 20 rows\n"
      ],
      "text/plain": [
       "+--------+----------+--------------------+--------+---------------+--------------------+\n",
       "|polarity|        id|                date|   query|           user|                text|\n",
       "+--------+----------+--------------------+--------+---------------+--------------------+\n",
       "|       0|1467810369|Mon Apr 06 22:19:...|NO_QUERY|_TheSpecialOne_|@switchfoot http:...|\n",
       "|       0|1467810672|Mon Apr 06 22:19:...|NO_QUERY|  scotthamilton|is upset that he ...|\n",
       "|       0|1467810917|Mon Apr 06 22:19:...|NO_QUERY|       mattycus|@Kenichan I dived...|\n",
       "|       0|1467811184|Mon Apr 06 22:19:...|NO_QUERY|        ElleCTF|my whole body fee...|\n",
       "|       0|1467811193|Mon Apr 06 22:19:...|NO_QUERY|         Karoli|@nationwideclass ...|\n",
       "|       0|1467811372|Mon Apr 06 22:20:...|NO_QUERY|       joy_wolf|@Kwesidei not the...|\n",
       "|       0|1467811592|Mon Apr 06 22:20:...|NO_QUERY|        mybirch|         Need a hug |\n",
       "|       0|1467811594|Mon Apr 06 22:20:...|NO_QUERY|           coZZ|@LOLTrish hey  lo...|\n",
       "|       0|1467811795|Mon Apr 06 22:20:...|NO_QUERY|2Hood4Hollywood|@Tatiana_K nope t...|\n",
       "|       0|1467812025|Mon Apr 06 22:20:...|NO_QUERY|        mimismo|@twittera que me ...|\n",
       "|       0|1467812416|Mon Apr 06 22:20:...|NO_QUERY| erinx3leannexo|spring break in p...|\n",
       "|       0|1467812579|Mon Apr 06 22:20:...|NO_QUERY|   pardonlauren|I just re-pierced...|\n",
       "|       0|1467812723|Mon Apr 06 22:20:...|NO_QUERY|           TLeC|@caregiving I cou...|\n",
       "|       0|1467812771|Mon Apr 06 22:20:...|NO_QUERY|robrobbierobert|@octolinz16 It it...|\n",
       "|       0|1467812784|Mon Apr 06 22:20:...|NO_QUERY|    bayofwolves|@smarrison i woul...|\n",
       "|       0|1467812799|Mon Apr 06 22:20:...|NO_QUERY|     HairByJess|@iamjazzyfizzle I...|\n",
       "|       0|1467812964|Mon Apr 06 22:20:...|NO_QUERY| lovesongwriter|Hollis' death sce...|\n",
       "|       0|1467813137|Mon Apr 06 22:20:...|NO_QUERY|       armotley|about to file taxes |\n",
       "|       0|1467813579|Mon Apr 06 22:20:...|NO_QUERY|     starkissed|@LettyA ahh ive a...|\n",
       "|       0|1467813782|Mon Apr 06 22:20:...|NO_QUERY|      gi_gi_bee|@FakerPattyPattz ...|\n",
       "+--------+----------+--------------------+--------+---------------+--------------------+\n",
       "only showing top 20 rows"
      ]
     },
     "execution_count": 36,
     "metadata": {},
     "output_type": "execute_result"
    }
   ],
   "source": [
    "datas"
   ]
  },
  {
   "cell_type": "code",
   "execution_count": 37,
   "id": "139600ca",
   "metadata": {},
   "outputs": [],
   "source": [
    "datas.write.saveAsTable(name='tweets', format='orc', mode='overwrite')"
   ]
  },
  {
   "cell_type": "code",
   "execution_count": 38,
   "id": "cc37e93b",
   "metadata": {},
   "outputs": [
    {
     "name": "stdout",
     "output_type": "stream",
     "text": [
      "+--------+----------+--------------------+--------+---------------+--------------------+\n",
      "|polarity|        id|                date|   query|           user|                text|\n",
      "+--------+----------+--------------------+--------+---------------+--------------------+\n",
      "|       0|1467810369|Mon Apr 06 22:19:...|NO_QUERY|_TheSpecialOne_|@switchfoot http:...|\n",
      "|       0|1467810672|Mon Apr 06 22:19:...|NO_QUERY|  scotthamilton|is upset that he ...|\n",
      "|       0|1467810917|Mon Apr 06 22:19:...|NO_QUERY|       mattycus|@Kenichan I dived...|\n",
      "|       0|1467811184|Mon Apr 06 22:19:...|NO_QUERY|        ElleCTF|my whole body fee...|\n",
      "|       0|1467811193|Mon Apr 06 22:19:...|NO_QUERY|         Karoli|@nationwideclass ...|\n",
      "|       0|1467811372|Mon Apr 06 22:20:...|NO_QUERY|       joy_wolf|@Kwesidei not the...|\n",
      "|       0|1467811592|Mon Apr 06 22:20:...|NO_QUERY|        mybirch|         Need a hug |\n",
      "|       0|1467811594|Mon Apr 06 22:20:...|NO_QUERY|           coZZ|@LOLTrish hey  lo...|\n",
      "|       0|1467811795|Mon Apr 06 22:20:...|NO_QUERY|2Hood4Hollywood|@Tatiana_K nope t...|\n",
      "|       0|1467812025|Mon Apr 06 22:20:...|NO_QUERY|        mimismo|@twittera que me ...|\n",
      "|       0|1467812416|Mon Apr 06 22:20:...|NO_QUERY| erinx3leannexo|spring break in p...|\n",
      "|       0|1467812579|Mon Apr 06 22:20:...|NO_QUERY|   pardonlauren|I just re-pierced...|\n",
      "|       0|1467812723|Mon Apr 06 22:20:...|NO_QUERY|           TLeC|@caregiving I cou...|\n",
      "|       0|1467812771|Mon Apr 06 22:20:...|NO_QUERY|robrobbierobert|@octolinz16 It it...|\n",
      "|       0|1467812784|Mon Apr 06 22:20:...|NO_QUERY|    bayofwolves|@smarrison i woul...|\n",
      "|       0|1467812799|Mon Apr 06 22:20:...|NO_QUERY|     HairByJess|@iamjazzyfizzle I...|\n",
      "|       0|1467812964|Mon Apr 06 22:20:...|NO_QUERY| lovesongwriter|Hollis' death sce...|\n",
      "|       0|1467813137|Mon Apr 06 22:20:...|NO_QUERY|       armotley|about to file taxes |\n",
      "|       0|1467813579|Mon Apr 06 22:20:...|NO_QUERY|     starkissed|@LettyA ahh ive a...|\n",
      "|       0|1467813782|Mon Apr 06 22:20:...|NO_QUERY|      gi_gi_bee|@FakerPattyPattz ...|\n",
      "+--------+----------+--------------------+--------+---------------+--------------------+\n",
      "only showing top 20 rows\n",
      "\n"
     ]
    }
   ],
   "source": [
    "spark.sql(\"SELECT * FROM tweets\").show()"
   ]
  },
  {
   "cell_type": "code",
   "execution_count": 40,
   "id": "76775d96",
   "metadata": {},
   "outputs": [
    {
     "name": "stdout",
     "output_type": "stream",
     "text": [
      "+--------+\n",
      "|count(1)|\n",
      "+--------+\n",
      "| 1600498|\n",
      "+--------+\n",
      "\n"
     ]
    }
   ],
   "source": [
    "spark.sql(\"SELECT count(*) FROM tweets\").show()"
   ]
  },
  {
   "cell_type": "code",
   "execution_count": 41,
   "id": "4f5b6dde",
   "metadata": {},
   "outputs": [
    {
     "name": "stdout",
     "output_type": "stream",
     "text": [
      "+----------+-----+\n",
      "|      word|score|\n",
      "+----------+-----+\n",
      "|   abandon|   -2|\n",
      "| abandoned|   -2|\n",
      "|  abandons|   -2|\n",
      "|  abducted|   -2|\n",
      "| abduction|   -2|\n",
      "|abductions|   -2|\n",
      "|     abhor|   -3|\n",
      "|  abhorred|   -3|\n",
      "| abhorrent|   -3|\n",
      "|    abhors|   -3|\n",
      "| abilities|    2|\n",
      "|   ability|    2|\n",
      "|    aboard|    1|\n",
      "|  absentee|   -1|\n",
      "| absentees|   -1|\n",
      "|   absolve|    2|\n",
      "|  absolved|    2|\n",
      "|  absolves|    2|\n",
      "| absolving|    2|\n",
      "|  absorbed|    1|\n",
      "+----------+-----+\n",
      "only showing top 20 rows\n",
      "\n"
     ]
    }
   ],
   "source": [
    "spark.sql(\"SELECT * FROM sentiment_words\").show()"
   ]
  },
  {
   "cell_type": "code",
   "execution_count": 43,
   "id": "83c2cb47",
   "metadata": {},
   "outputs": [
    {
     "name": "stdout",
     "output_type": "stream",
     "text": [
      "+--------+\n",
      "|count(1)|\n",
      "+--------+\n",
      "|    2477|\n",
      "+--------+\n",
      "\n"
     ]
    }
   ],
   "source": [
    "spark.sql(\"SELECT count(*) FROM sentiment_words\").show()"
   ]
  },
  {
   "cell_type": "markdown",
   "id": "c60385de",
   "metadata": {},
   "source": [
    "We have successfully loaded data into hive tables"
   ]
  },
  {
   "cell_type": "markdown",
   "id": "97b61d54",
   "metadata": {},
   "source": [
    "### Feature Generation"
   ]
  },
  {
   "cell_type": "markdown",
   "id": "850c7841",
   "metadata": {},
   "source": [
    "We Represent each tweet as follows : <br>\n",
    "1 A TF-IDF based vector of words from the text of the tweet.<br>\n",
    "2 A +ve & -ve sentiment score, based on sentiment, wordlist\n",
    "3 Temporal features including month, day-of-week and hour-of-day"
   ]
  },
  {
   "cell_type": "code",
   "execution_count": 5,
   "id": "3633b0a0",
   "metadata": {},
   "outputs": [],
   "source": [
    "from pyspark.conf import SparkConf"
   ]
  },
  {
   "cell_type": "code",
   "execution_count": 6,
   "id": "47383ecd",
   "metadata": {},
   "outputs": [
    {
     "data": {
      "text/plain": [
       "[('spark.eventLog.enabled', 'true'),\n",
       " ('spark.sql.repl.eagerEval.enabled', 'true'),\n",
       " ('spark.eventLog.dir', 'hdfs:///spark-logs'),\n",
       " ('spark.app.name', 'sentiment Analysis'),\n",
       " ('spark.yarn.historyServer.address', 'm02.itversity.com:18080'),\n",
       " ('spark.yarn.jars', ''),\n",
       " ('spark.history.provider',\n",
       "  'org.apache.spark.deploy.history.FsHistoryProvider'),\n",
       " ('spark.serializer.objectStreamReset', '100'),\n",
       " ('spark.history.fs.logDirectory', 'hdfs:///spark-logs'),\n",
       " ('spark.submit.deployMode', 'client'),\n",
       " ('spark.history.fs.update.interval', '10s'),\n",
       " ('spark.driver.extraJavaOptions', '-Dderby.system.home=/tmp/derby/'),\n",
       " ('spark.org.apache.hadoop.yarn.server.webproxy.amfilter.AmIpFilter.param.PROXY_HOSTS',\n",
       "  'm02.itversity.com'),\n",
       " ('spark.ui.filters',\n",
       "  'org.apache.hadoop.yarn.server.webproxy.amfilter.AmIpFilter'),\n",
       " ('spark.driver.port', '35235'),\n",
       " ('spark.org.apache.hadoop.yarn.server.webproxy.amfilter.AmIpFilter.param.PROXY_URI_BASES',\n",
       "  'http://m02.itversity.com:19088/proxy/application_1624709891350_9490'),\n",
       " ('spark.executor.extraLibraryPath', '/opt/hadoop/lib/native'),\n",
       " ('spark.history.ui.port', '18080'),\n",
       " ('spark.driver.host', 'g02.itversity.com'),\n",
       " ('spark.sql.warehouse.dir', '/user/itv000684/warehouse'),\n",
       " ('spark.executor.id', 'driver'),\n",
       " ('spark.driver.appUIAddress', 'http://g02.itversity.com:4042'),\n",
       " ('spark.master', 'yarn'),\n",
       " ('spark.executorEnv.PYTHONPATH',\n",
       "  '/opt/spark-3.0.1-bin-hadoop3.2/python/lib/py4j-0.10.9-src.zip:/opt/spark-3.0.1-bin-hadoop3.2/python<CPS>{{PWD}}/pyspark.zip<CPS>{{PWD}}/py4j-0.10.9-src.zip'),\n",
       " ('spark.sql.catalogImplementation', 'hive'),\n",
       " ('spark.rdd.compress', 'True'),\n",
       " ('spark.app.id', 'application_1624709891350_9490'),\n",
       " ('spark.submit.pyFiles', ''),\n",
       " ('spark.yarn.isPython', 'true'),\n",
       " ('spark.ui.showConsoleProgress', 'true')]"
      ]
     },
     "execution_count": 6,
     "metadata": {},
     "output_type": "execute_result"
    }
   ],
   "source": [
    "spark.sparkContext._conf.getAll()"
   ]
  },
  {
   "cell_type": "code",
   "execution_count": 11,
   "id": "cd959edd",
   "metadata": {},
   "outputs": [],
   "source": [
    "conf = spark.sparkContext._conf.setAll([('spark.executor.memory', '4g'), ('spark.executor.instances',4),(\"spark.sql.warehouse.dir\",\"/user/itv000684/warehouse\"),('spark.sql.autoBroadcastJoinThreshold', 400 * 1024 * 1024)])"
   ]
  },
  {
   "cell_type": "code",
   "execution_count": 10,
   "id": "3c2109e6",
   "metadata": {},
   "outputs": [],
   "source": [
    "spark.sparkContext.stop()"
   ]
  },
  {
   "cell_type": "code",
   "execution_count": 12,
   "id": "010ae8ab",
   "metadata": {},
   "outputs": [],
   "source": [
    "spark = SparkSession.builder.config(conf=conf). \\\n",
    "appName(\"sentiment Analysis\"). \\\n",
    "enableHiveSupport(). \\\n",
    "master(\"local\"). \\\n",
    "getOrCreate()"
   ]
  },
  {
   "cell_type": "code",
   "execution_count": 13,
   "id": "15fe4fe6",
   "metadata": {},
   "outputs": [],
   "source": [
    "from pyspark import HiveContext\n",
    "hc = HiveContext(spark.sparkContext)"
   ]
  },
  {
   "cell_type": "code",
   "execution_count": 1,
   "id": "943899f1",
   "metadata": {},
   "outputs": [],
   "source": [
    "import re,string\n",
    "import pyspark.sql.functions as func\n",
    "from pyspark.sql.types import StringType, ArrayType, FloatType\n",
    "\n",
    "puncture = re.compile('[%s]' % re.escape(string.punctuation))\n",
    "def token_string(text, ngrams = 1, minChars = 2) :\n",
    "    #remove whitespace\n",
    "    text = re.sub(r'\\s+', ' ', text)\n",
    "    #change to lowecase and split into tokens\n",
    "    tokens = map(unicode, text.lower().split(' '))\n",
    "    #remove short words and usernames\n",
    "    tokens = filter(lambda x: len(x) >= minChars and x[0]!='@', tokens)\n",
    "    #replace any links by URL\n",
    "    tokens = [\"URL\" if t[:4] == \"http\" else t for t in tokens]\n",
    "    #remove punctuation from tokens\n",
    "    tokens = [puncture.sub('', t) for t in tokens]\n",
    "    if ngrams==1:\n",
    "        return tokens\n",
    "    else:\n",
    "        return tokens + [' '.join(tokens[i:i+ngrams]) for i in xrange(len(tokens)-ngrams+1)]\n",
    "tokenizer = func.udf(lambda s: token_string(unicode(s), ngrams = 2), ArrayType(StringType()))"
   ]
  },
  {
   "cell_type": "code",
   "execution_count": 3,
   "id": "932f8fe6",
   "metadata": {},
   "outputs": [
    {
     "data": {
      "text/plain": [
       "Column<b'<lambda>(Now ,you can e,xecute the code)'>"
      ]
     },
     "execution_count": 3,
     "metadata": {},
     "output_type": "execute_result"
    }
   ],
   "source": [
    "tokenizer(\"Now ,you can e,xecute the code\")"
   ]
  },
  {
   "cell_type": "code",
   "execution_count": null,
   "id": "dfbb7437",
   "metadata": {},
   "outputs": [],
   "source": []
  }
 ],
 "metadata": {
  "kernelspec": {
   "display_name": "Pyspark 3",
   "language": "python",
   "name": "pyspark3"
  },
  "language_info": {
   "codemirror_mode": {
    "name": "ipython",
    "version": 3
   },
   "file_extension": ".py",
   "mimetype": "text/x-python",
   "name": "python",
   "nbconvert_exporter": "python",
   "pygments_lexer": "ipython3",
   "version": "3.6.12"
  }
 },
 "nbformat": 4,
 "nbformat_minor": 5
}
