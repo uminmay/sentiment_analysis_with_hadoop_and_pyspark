{
 "cells": [
  {
   "cell_type": "markdown",
   "id": "4b7f451d",
   "metadata": {},
   "source": [
    "# Sentiment Analysis (Big Data Environment)"
   ]
  },
  {
   "cell_type": "markdown",
   "id": "9e850e6a",
   "metadata": {},
   "source": [
    "## Tweets Dataset"
   ]
  },
  {
   "cell_type": "markdown",
   "id": "775b67eb",
   "metadata": {},
   "source": [
    "Dataset : sentiment140 corpus, comprised of about 1.6M tweets, each with below information"
   ]
  },
  {
   "cell_type": "markdown",
   "id": "b6c53c73",
   "metadata": {},
   "source": [
    "1.Polarity of tweet: 0 = -ve, 2 = neutral, 4 = +ve <br>\n",
    "2.ID of tweet <br>\n",
    "3.Date of tweet <br>\n",
    "4.The query (if available) <br>\n",
    "5.The user of the tweet<br>\n",
    "6.The text of the tweet"
   ]
  },
  {
   "cell_type": "markdown",
   "id": "27e7a9b6",
   "metadata": {},
   "source": [
    "Also, AFINN wordlist have been used, it provides a sentiment score for 2476 English <br>\n",
    "words to achieve a better accuracy, Each row of this dataset is:"
   ]
  },
  {
   "cell_type": "markdown",
   "id": "964be943",
   "metadata": {},
   "source": [
    "1.Word <br>\n",
    "2.Score"
   ]
  },
  {
   "cell_type": "markdown",
   "id": "4d45410b",
   "metadata": {},
   "source": [
    "### Data Preparation"
   ]
  },
  {
   "cell_type": "markdown",
   "id": "a1424c1a",
   "metadata": {},
   "source": [
    "Loading data into HIVE table"
   ]
  },
  {
   "cell_type": "markdown",
   "id": "95de2ee2",
   "metadata": {},
   "source": [
    "Create a spark session"
   ]
  },
  {
   "cell_type": "code",
   "execution_count": 1,
   "id": "059eab5d",
   "metadata": {},
   "outputs": [],
   "source": [
    "from pyspark.sql import SparkSession"
   ]
  },
  {
   "cell_type": "code",
   "execution_count": 2,
   "id": "a36bcde9",
   "metadata": {},
   "outputs": [],
   "source": [
    "spark = SparkSession. \\\n",
    "builder. \\\n",
    "config(\"spark.sql.warehouse.dir\",\"/user/itv000684/warehouse\"). \\\n",
    "appName(\"sentiment Analysis\"). \\\n",
    "enableHiveSupport(). \\\n",
    "master(\"yarn\"). \\\n",
    "getOrCreate()"
   ]
  },
  {
   "cell_type": "code",
   "execution_count": 3,
   "id": "1eba73bc",
   "metadata": {},
   "outputs": [
    {
     "name": "stdout",
     "output_type": "stream",
     "text": [
      "+------------------+\n",
      "|current_database()|\n",
      "+------------------+\n",
      "|           default|\n",
      "+------------------+\n",
      "\n"
     ]
    }
   ],
   "source": [
    "spark.sql(\"SELECT current_database()\").show()"
   ]
  },
  {
   "cell_type": "code",
   "execution_count": 19,
   "id": "dfcb56a1",
   "metadata": {},
   "outputs": [
    {
     "data": {
      "text/html": [
       "<table border='1'>\n",
       "<tr><th></th></tr>\n",
       "</table>\n"
      ],
      "text/plain": [
       "++\n",
       "||\n",
       "++\n",
       "++"
      ]
     },
     "execution_count": 19,
     "metadata": {},
     "output_type": "execute_result"
    }
   ],
   "source": [
    "#spark.sql(\"CREATE DATABASE IF NOT EXISTS itv000684_tweetdata\")"
   ]
  },
  {
   "cell_type": "code",
   "execution_count": 4,
   "id": "38390718",
   "metadata": {},
   "outputs": [
    {
     "data": {
      "text/html": [
       "<table border='1'>\n",
       "<tr><th></th></tr>\n",
       "</table>\n"
      ],
      "text/plain": [
       "++\n",
       "||\n",
       "++\n",
       "++"
      ]
     },
     "execution_count": 4,
     "metadata": {},
     "output_type": "execute_result"
    }
   ],
   "source": [
    "spark.sql(\"USE itv000684_tweetdata\")"
   ]
  },
  {
   "cell_type": "code",
   "execution_count": 5,
   "id": "094f7779",
   "metadata": {},
   "outputs": [
    {
     "name": "stdout",
     "output_type": "stream",
     "text": [
      "+-------------------+\n",
      "| current_database()|\n",
      "+-------------------+\n",
      "|itv000684_tweetdata|\n",
      "+-------------------+\n",
      "\n"
     ]
    }
   ],
   "source": [
    "spark.sql(\"SELECT current_database()\").show()"
   ]
  },
  {
   "cell_type": "code",
   "execution_count": 51,
   "id": "8bc4abab",
   "metadata": {},
   "outputs": [
    {
     "data": {
      "text/html": [
       "<table border='1'>\n",
       "<tr><th></th></tr>\n",
       "</table>\n"
      ],
      "text/plain": [
       "++\n",
       "||\n",
       "++\n",
       "++"
      ]
     },
     "execution_count": 51,
     "metadata": {},
     "output_type": "execute_result"
    }
   ],
   "source": [
    "#spark.sql(\"DROP TABLE tweets\")"
   ]
  },
  {
   "cell_type": "code",
   "execution_count": 6,
   "id": "78c99b01",
   "metadata": {},
   "outputs": [
    {
     "name": "stdout",
     "output_type": "stream",
     "text": [
      "+-------------------+---------------+-----------+\n",
      "|           database|      tableName|isTemporary|\n",
      "+-------------------+---------------+-----------+\n",
      "|itv000684_tweetdata|sentiment_words|      false|\n",
      "|itv000684_tweetdata|     tweets_raw|      false|\n",
      "+-------------------+---------------+-----------+\n",
      "\n"
     ]
    }
   ],
   "source": [
    "spark.sql(\"SHOW TABLES\").show()"
   ]
  },
  {
   "cell_type": "code",
   "execution_count": 7,
   "id": "3430d078",
   "metadata": {},
   "outputs": [
    {
     "data": {
      "text/html": [
       "<table border='1'>\n",
       "<tr><th></th></tr>\n",
       "</table>\n"
      ],
      "text/plain": [
       "++\n",
       "||\n",
       "++\n",
       "++"
      ]
     },
     "execution_count": 7,
     "metadata": {},
     "output_type": "execute_result"
    }
   ],
   "source": [
    "spark.sql(\"DROP TABLE tweets_raw\")"
   ]
  },
  {
   "cell_type": "code",
   "execution_count": null,
   "id": "16813171",
   "metadata": {},
   "outputs": [],
   "source": [
    "spark.sql(\"\"\"CREATE TABLE tweets (\n",
    "polarity INT,\n",
    "id STRING,\n",
    "date STRING,\n",
    "query STRING,\n",
    "user STRING,\n",
    "text STRING\n",
    ")  ROW FORMAT DELIMITED FIELDS TERMINATED BY ','\n",
    "STORED AS TEXTFILE\n",
    "tblproperties(\"skip.header.line.count\" = \"0\")\n",
    "\"\"\")"
   ]
  },
  {
   "cell_type": "code",
   "execution_count": 26,
   "id": "4978a039",
   "metadata": {},
   "outputs": [
    {
     "data": {
      "text/html": [
       "<table border='1'>\n",
       "<tr><th></th></tr>\n",
       "</table>\n"
      ],
      "text/plain": [
       "++\n",
       "||\n",
       "++\n",
       "++"
      ]
     },
     "execution_count": 26,
     "metadata": {},
     "output_type": "execute_result"
    }
   ],
   "source": [
    "spark.sql(\"\"\"CREATE TABLE sentiment_words (\n",
    "word STRING,\n",
    "score INT\n",
    ") ROW FORMAT DELIMITED FIELDS TERMINATED BY '\\t'\n",
    "STORED AS TEXTFILE\n",
    "\"\"\")"
   ]
  },
  {
   "cell_type": "code",
   "execution_count": 32,
   "id": "32c27a70",
   "metadata": {},
   "outputs": [
    {
     "name": "stdout",
     "output_type": "stream",
     "text": [
      "+-------------------+---------------+-----------+\n",
      "|           database|      tableName|isTemporary|\n",
      "+-------------------+---------------+-----------+\n",
      "|itv000684_tweetdata|sentiment_words|      false|\n",
      "|itv000684_tweetdata|         tweets|      false|\n",
      "+-------------------+---------------+-----------+\n",
      "\n"
     ]
    }
   ],
   "source": [
    "spark.sql(\"SHOW TABLES\").show()"
   ]
  },
  {
   "cell_type": "code",
   "execution_count": 49,
   "id": "4982da97",
   "metadata": {},
   "outputs": [
    {
     "data": {
      "text/html": [
       "<table border='1'>\n",
       "<tr><th></th></tr>\n",
       "</table>\n"
      ],
      "text/plain": [
       "++\n",
       "||\n",
       "++\n",
       "++"
      ]
     },
     "execution_count": 49,
     "metadata": {},
     "output_type": "execute_result"
    }
   ],
   "source": [
    "spark.sql(\"LOAD DATA INPATH '/user/itv000684/sentiment_analysis/data' INTO TABLE tweets\")"
   ]
  },
  {
   "cell_type": "code",
   "execution_count": 34,
   "id": "d68914b7",
   "metadata": {},
   "outputs": [
    {
     "data": {
      "text/html": [
       "<table border='1'>\n",
       "<tr><th></th></tr>\n",
       "</table>\n"
      ],
      "text/plain": [
       "++\n",
       "||\n",
       "++\n",
       "++"
      ]
     },
     "execution_count": 34,
     "metadata": {},
     "output_type": "execute_result"
    }
   ],
   "source": [
    "spark.sql(\"LOAD DATA INPATH '/user/itv000684/sentiment_analysis/wordlist' INTO TABLE sentiment_words\")"
   ]
  },
  {
   "cell_type": "code",
   "execution_count": 50,
   "id": "3b6b8208",
   "metadata": {},
   "outputs": [
    {
     "name": "stdout",
     "output_type": "stream",
     "text": [
      "+--------+---+----+-----+----+----+\n",
      "|polarity| id|date|query|user|text|\n",
      "+--------+---+----+-----+----+----+\n",
      "+--------+---+----+-----+----+----+\n",
      "\n"
     ]
    }
   ],
   "source": [
    "spark.sql(\"SELECT * FROM tweets\").show()"
   ]
  },
  {
   "cell_type": "code",
   "execution_count": null,
   "id": "da6ff5a6",
   "metadata": {},
   "outputs": [],
   "source": []
  }
 ],
 "metadata": {
  "kernelspec": {
   "display_name": "Pyspark 3",
   "language": "python",
   "name": "pyspark3"
  },
  "language_info": {
   "codemirror_mode": {
    "name": "ipython",
    "version": 3
   },
   "file_extension": ".py",
   "mimetype": "text/x-python",
   "name": "python",
   "nbconvert_exporter": "python",
   "pygments_lexer": "ipython3",
   "version": "3.6.12"
  }
 },
 "nbformat": 4,
 "nbformat_minor": 5
}
